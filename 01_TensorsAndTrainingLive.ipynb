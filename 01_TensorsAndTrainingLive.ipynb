{
  "nbformat": 4,
  "nbformat_minor": 0,
  "metadata": {
    "colab": {
      "name": "01_TensorsAndTrainingLive.ipynb",
      "version": "0.3.2",
      "provenance": []
    },
    "kernelspec": {
      "name": "python3",
      "display_name": "Python 3"
    }
  },
  "cells": [
    {
      "cell_type": "markdown",
      "metadata": {
        "id": "view-in-github",
        "colab_type": "text"
      },
      "source": [
        "[View in Colaboratory](https://colab.research.google.com/github/muziejus/ai-atelier/blob/master/01_TensorsAndTrainingLive.ipynb)"
      ]
    },
    {
      "metadata": {
        "id": "cTgQnuvJ3y9y",
        "colab_type": "code",
        "colab": {}
      },
      "cell_type": "code",
      "source": [
        "import tensorflow as tf\n",
        "import tensorflow.contrib.eager as tfe\n",
        "# eager gets us the information and results quickly\n",
        "tf.enable_eager_execution()\n",
        "from matplotlib.pyplot import plot"
      ],
      "execution_count": 0,
      "outputs": []
    },
    {
      "metadata": {
        "id": "GoqwK4kq4RdG",
        "colab_type": "code",
        "colab": {}
      },
      "cell_type": "code",
      "source": [
        "a = tf.convert_to_tensor([1, 2, 3])\n",
        "b = tf.convert_to_tensor([4, 5, 6])"
      ],
      "execution_count": 0,
      "outputs": []
    },
    {
      "metadata": {
        "id": "wtdGd6Ym4QDD",
        "colab_type": "code",
        "colab": {
          "base_uri": "https://localhost:8080/",
          "height": 34
        },
        "outputId": "ba837d7d-73b1-4a00-e0a6-9406afe00848"
      },
      "cell_type": "code",
      "source": [
        "tf.ones([5])"
      ],
      "execution_count": 5,
      "outputs": [
        {
          "output_type": "execute_result",
          "data": {
            "text/plain": [
              "<tf.Tensor: id=4, shape=(5,), dtype=float32, numpy=array([1., 1., 1., 1., 1.], dtype=float32)>"
            ]
          },
          "metadata": {
            "tags": []
          },
          "execution_count": 5
        }
      ]
    },
    {
      "metadata": {
        "id": "CCBVA66X4H9I",
        "colab_type": "code",
        "colab": {
          "base_uri": "https://localhost:8080/",
          "height": 34
        },
        "outputId": "f87953f5-1ae2-4fa1-ae4a-1c110a0be21e"
      },
      "cell_type": "code",
      "source": [
        "a + b"
      ],
      "execution_count": 8,
      "outputs": [
        {
          "output_type": "execute_result",
          "data": {
            "text/plain": [
              "<tf.Tensor: id=9, shape=(3,), dtype=int32, numpy=array([5, 7, 9], dtype=int32)>"
            ]
          },
          "metadata": {
            "tags": []
          },
          "execution_count": 8
        }
      ]
    },
    {
      "metadata": {
        "id": "tThO9jIB6Qdv",
        "colab_type": "code",
        "colab": {
          "base_uri": "https://localhost:8080/",
          "height": 68
        },
        "outputId": "de41097f-e0c9-4ef8-85a8-62d24aeb0d67"
      },
      "cell_type": "code",
      "source": [
        "tf.convert_to_tensor([[[2, 3], [3, 4]]])"
      ],
      "execution_count": 10,
      "outputs": [
        {
          "output_type": "execute_result",
          "data": {
            "text/plain": [
              "<tf.Tensor: id=13, shape=(1, 2, 2), dtype=int32, numpy=\n",
              "array([[[2, 3],\n",
              "        [3, 4]]], dtype=int32)>"
            ]
          },
          "metadata": {
            "tags": []
          },
          "execution_count": 10
        }
      ]
    },
    {
      "metadata": {
        "id": "apNYnqiX7gTY",
        "colab_type": "text"
      },
      "cell_type": "markdown",
      "source": [
        "## The training loop"
      ]
    },
    {
      "metadata": {
        "id": "g9-8D4-_628v",
        "colab_type": "code",
        "colab": {}
      },
      "cell_type": "code",
      "source": [
        "# Fitting a line from two points\n",
        "# From ax + b\n",
        "\n",
        "# 1. Batch of training data\n",
        "# inputs used to generate predictions\n",
        "#x_values = tf.convert_to_tensor([-40.0, 0.0])\n",
        "x_values = tf.convert_to_tensor([0.0, 1.0, 2.0, 10.0])\n",
        "# desired outputs or \"labels\"\n",
        "#y_values = tf.convert_to_tensor([-40.0, 32.0 ])\n",
        "y_values = tf.convert_to_tensor([0.0, 1.0, 4.0, 100.0])\n"
      ],
      "execution_count": 0,
      "outputs": []
    },
    {
      "metadata": {
        "id": "tJrx69En9Iix",
        "colab_type": "code",
        "colab": {}
      },
      "cell_type": "code",
      "source": [
        "# Prediction function that adds inputs, ops, and variables\n",
        "def predict_y_values(x_values):\n",
        "  #return A * x_values + B\n",
        "  return (x_values ** A) + B"
      ],
      "execution_count": 0,
      "outputs": []
    },
    {
      "metadata": {
        "id": "iTKYIF079Pjg",
        "colab_type": "code",
        "colab": {
          "base_uri": "https://localhost:8080/",
          "height": 527
        },
        "outputId": "fd81e341-d077-4b12-f7df-effa530d4067"
      },
      "cell_type": "code",
      "source": [
        "# 2. Model\n",
        "# because tensors can't be changed, we create variables to be mutable\n",
        "# variables to train\n",
        "A = tfe.Variable(0.0)\n",
        "B = tfe.Variable(0.0)\n",
        "\n",
        "# The training Loop\n",
        "steps = 2000\n",
        "for i in range(steps):\n",
        "  # training logic for each iteration\n",
        "  with tfe.GradientTape() as tape:\n",
        "    # use the model to generate a prediction\n",
        "    predicted_y_values = predict_y_values(x_values)\n",
        "    # 3. Loss computes error w/ mean sq error between prediction and desired output\n",
        "    loss_value = tf.reduce_mean(tf.square(predicted_y_values - y_values))\n",
        "    # 5. Metrics tell you how well your model is training\n",
        "\n",
        "  # 4. Update step \n",
        "  # 4A: Gradient tells us which direction to change the variables to reduce loss\n",
        "  gradient_A, gradient_B = tape.gradient(loss_value, [A, B]) # Stay tuned!\n",
        "  # 4B: Nudge the variables by a small step in the right direction\n",
        "  A.assign_sub(gradient_A * 0.00001)\n",
        "  B.assign_sub(gradient_B * 0.00001)\n",
        "  if i % 200 == 0:\n",
        "    print(\"Loss at step {:03d}: {:.3f}\".format(i, loss_value))\n",
        "    print(\"A: {:.4f} B: {:.4f}\".format(A.value(), B.value()))\n",
        "    print(\"{:.4f}, {:.4f}\".format(gradient_A, gradient_B))"
      ],
      "execution_count": 68,
      "outputs": [
        {
          "output_type": "stream",
          "text": [
            "Loss at step 000: 2452.750\n",
            "A: 0.0012 B: 0.0005\n",
            "-115.0177, -50.5000\n",
            "Loss at step 200: 2392.625\n",
            "A: 0.3258 B: 0.1018\n",
            "-238.2289, -50.1190\n",
            "Loss at step 400: 10.686\n",
            "A: 1.9768 B: 0.1911\n",
            "-701.2537, -3.0206\n",
            "Loss at step 600: 0.027\n",
            "A: 1.9992 B: 0.1906\n",
            "-0.0057, 0.2836\n",
            "Loss at step 800: 0.027\n",
            "A: 1.9992 B: 0.1900\n",
            "-0.0056, 0.2827\n",
            "Loss at step 1000: 0.027\n",
            "A: 1.9992 B: 0.1895\n",
            "-0.0046, 0.2819\n",
            "Loss at step 1200: 0.027\n",
            "A: 1.9992 B: 0.1889\n",
            "-0.0045, 0.2811\n",
            "Loss at step 1400: 0.026\n",
            "A: 1.9992 B: 0.1883\n",
            "-0.0035, 0.2802\n",
            "Loss at step 1600: 0.026\n",
            "A: 1.9992 B: 0.1878\n",
            "-0.0025, 0.2794\n",
            "Loss at step 1800: 0.026\n",
            "A: 1.9992 B: 0.1872\n",
            "-0.0041, 0.2786\n"
          ],
          "name": "stdout"
        }
      ]
    },
    {
      "metadata": {
        "id": "oZ1_G7MsLR_j",
        "colab_type": "code",
        "colab": {}
      },
      "cell_type": "code",
      "source": [
        ""
      ],
      "execution_count": 0,
      "outputs": []
    }
  ]
}