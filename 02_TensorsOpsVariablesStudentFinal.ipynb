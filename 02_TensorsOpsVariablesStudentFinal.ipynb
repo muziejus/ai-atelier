{
  "nbformat": 4,
  "nbformat_minor": 0,
  "metadata": {
    "colab": {
      "name": "02_TensorsOpsVariablesStudentFinal.ipynb",
      "version": "0.3.2",
      "provenance": [],
      "collapsed_sections": []
    },
    "kernelspec": {
      "name": "python3",
      "display_name": "Python 3"
    }
  },
  "cells": [
    {
      "cell_type": "markdown",
      "metadata": {
        "id": "view-in-github",
        "colab_type": "text"
      },
      "source": [
        "[View in Colaboratory](https://colab.research.google.com/github/muziejus/ai-atelier/blob/master/02_TensorsOpsVariablesStudentFinal.ipynb)"
      ]
    },
    {
      "metadata": {
        "id": "EVsEkAffjbV1",
        "colab_type": "code",
        "colab": {}
      },
      "cell_type": "code",
      "source": [
        "import tensorflow as tf\n",
        "import tensorflow.contrib.eager as tfe\n",
        "tf.enable_eager_execution()"
      ],
      "execution_count": 0,
      "outputs": []
    },
    {
      "metadata": {
        "id": "cVkyQ0nQ2HIn",
        "colab_type": "text"
      },
      "cell_type": "markdown",
      "source": [
        "## Tensors, Ops, & Variables\n"
      ]
    },
    {
      "metadata": {
        "id": "8Pcu9ef92x40",
        "colab_type": "text"
      },
      "cell_type": "markdown",
      "source": [
        "### Tensor Shapes & Slices"
      ]
    },
    {
      "metadata": {
        "id": "t4VwF-EC6k4F",
        "colab_type": "code",
        "colab": {}
      },
      "cell_type": "code",
      "source": [
        "# can create tensors with convert_to_tensor\n",
        "tensor = tf.convert_to_tensor([1,2,3,4,5])"
      ],
      "execution_count": 0,
      "outputs": []
    },
    {
      "metadata": {
        "id": "kgqvgWDDTVvp",
        "colab_type": "code",
        "colab": {}
      },
      "cell_type": "code",
      "source": [
        "# python indexing and slicing\n",
        "tensor = tf.convert_to_tensor([1,2,3,4,5])\n",
        "tensor[0:2]"
      ],
      "execution_count": 0,
      "outputs": []
    },
    {
      "metadata": {
        "id": "Zr0CzD8aSqhO",
        "colab_type": "code",
        "colab": {}
      },
      "cell_type": "code",
      "source": [
        "# how to create a 2d tensor?\n",
        "tensors = tf.convert_to_tensor([[1,2],[3,4]])"
      ],
      "execution_count": 0,
      "outputs": []
    },
    {
      "metadata": {
        "id": "RVsGRP2LTfIF",
        "colab_type": "code",
        "colab": {}
      },
      "cell_type": "code",
      "source": [
        "# indexing in 2d\n",
        "tensors[0,0]"
      ],
      "execution_count": 0,
      "outputs": []
    },
    {
      "metadata": {
        "id": "AgKD9k77TjvX",
        "colab_type": "code",
        "colab": {}
      },
      "cell_type": "code",
      "source": [
        "# slicing in 2d\n",
        "tensors[:,0]"
      ],
      "execution_count": 0,
      "outputs": []
    },
    {
      "metadata": {
        "id": "sDocZhX4S13e",
        "colab_type": "code",
        "colab": {}
      },
      "cell_type": "code",
      "source": [
        "# tensors have a shape\n",
        "# length of the shape is called the rank\n",
        "# change number of elements and see shape"
      ],
      "execution_count": 0,
      "outputs": []
    },
    {
      "metadata": {
        "id": "-kf6DEDdS7HX",
        "colab_type": "code",
        "colab": {}
      },
      "cell_type": "code",
      "source": [
        "# tensors must have uniform shape! cannot have ragged shapes.\n",
        "# this will error\n",
        "tf.convert_to_tensor([[1,2],[3]])"
      ],
      "execution_count": 0,
      "outputs": []
    },
    {
      "metadata": {
        "id": "AeFuh9uM3X0r",
        "colab_type": "code",
        "colab": {}
      },
      "cell_type": "code",
      "source": [
        "# what is the shape of the below?\n",
        "tensor = tf.convert_to_tensor([[1,1],[2,2],[3,3],[4,4],[5,5]])\n",
        "tensor"
      ],
      "execution_count": 0,
      "outputs": []
    },
    {
      "metadata": {
        "id": "oPfSg4Jv3eKj",
        "colab_type": "code",
        "colab": {}
      },
      "cell_type": "code",
      "source": [
        "# often need to reshape tensors. Can reshape to any shape with same # of elements.\n",
        "tensor = tf.convert_to_tensor([1,1,2,2,3,3,4,4,5,5])\n",
        "tf.reshape(tensor, (5,2))"
      ],
      "execution_count": 0,
      "outputs": []
    },
    {
      "metadata": {
        "id": "-NiVEas42GXq",
        "colab_type": "code",
        "colab": {}
      },
      "cell_type": "code",
      "source": [
        "# when reshaping, can have 1 (and only 1) wildcard dimension"
      ],
      "execution_count": 0,
      "outputs": []
    },
    {
      "metadata": {
        "id": "8LYRjEh4UKeQ",
        "colab_type": "code",
        "colab": {}
      },
      "cell_type": "code",
      "source": [
        "tensor = tf.convert_to_tensor([1,1,2,2,3,3,4,4,5,5])\n",
        "tf.reshape(tensor, (5,-1))"
      ],
      "execution_count": 0,
      "outputs": []
    },
    {
      "metadata": {
        "id": "qKeYqYblUMT_",
        "colab_type": "code",
        "colab": {}
      },
      "cell_type": "code",
      "source": [
        "tensor = tf.convert_to_tensor([1,1,2,2,3,3,4,4,5,5])\n",
        "tf.reshape(tensor, (-1,2))"
      ],
      "execution_count": 0,
      "outputs": []
    },
    {
      "metadata": {
        "id": "nWL6djYL4osZ",
        "colab_type": "text"
      },
      "cell_type": "markdown",
      "source": [
        "### Ops & Shapes"
      ]
    },
    {
      "metadata": {
        "id": "4FeqUmrR6Qxx",
        "colab_type": "code",
        "colab": {}
      },
      "cell_type": "code",
      "source": [
        "tensor = tf.convert_to_tensor([1,2,3,4,5])"
      ],
      "execution_count": 0,
      "outputs": []
    },
    {
      "metadata": {
        "id": "JEeBj9hq4Pnn",
        "colab_type": "code",
        "colab": {}
      },
      "cell_type": "code",
      "source": [
        "# python math operatos are overloaded into TF ops\n",
        "tensor + tensor"
      ],
      "execution_count": 0,
      "outputs": []
    },
    {
      "metadata": {
        "id": "D5CGX3dDJyQG",
        "colab_type": "code",
        "colab": {}
      },
      "cell_type": "code",
      "source": [
        "# shapes have to be compatible\n",
        "tensor_1 = tf.convert_to_tensor([1,2,3,4,5])\n",
        "tensor_2 = tf.convert_to_tensor([1,2,3])\n",
        "tensor_1 + tensor_2"
      ],
      "execution_count": 0,
      "outputs": []
    },
    {
      "metadata": {
        "id": "sD_7byb9J1O9",
        "colab_type": "code",
        "colab": {}
      },
      "cell_type": "code",
      "source": [
        "# Why shapes are really important:\n",
        "# functions expect certain shapes\n",
        "tf.losses.sigmoid_cross_entropy(\n",
        "    tf.convert_to_tensor([[0.3], [0.6]]), \n",
        "    tf.convert_to_tensor([[0.0],[1.0]]))"
      ],
      "execution_count": 0,
      "outputs": []
    },
    {
      "metadata": {
        "id": "H_i_AI59KI2y",
        "colab_type": "code",
        "colab": {}
      },
      "cell_type": "code",
      "source": [
        "# broken in comparison to above\n",
        "tf.losses.sigmoid_cross_entropy(\n",
        "    tf.convert_to_tensor([[0.3], [0.6]]), \n",
        "    tf.convert_to_tensor([0.0,1.0]))\n",
        "# important to understand how functions & shape interact"
      ],
      "execution_count": 0,
      "outputs": []
    },
    {
      "metadata": {
        "id": "LlOpzBWI4zqY",
        "colab_type": "code",
        "colab": {}
      },
      "cell_type": "code",
      "source": [
        "# most tensor ops are vectorized by default\n",
        "# will compute operation independently on each element in the tensor\n",
        "tf.square(tensor)"
      ],
      "execution_count": 0,
      "outputs": []
    },
    {
      "metadata": {
        "id": "14AqZWqL6OWo",
        "colab_type": "code",
        "colab": {}
      },
      "cell_type": "code",
      "source": [
        "# same code will work on a more complex shape\n",
        "tf.square(tf.convert_to_tensor([[1,2],[3,4]]))"
      ],
      "execution_count": 0,
      "outputs": []
    },
    {
      "metadata": {
        "id": "nAuasaGe4-xd",
        "colab_type": "code",
        "colab": {}
      },
      "cell_type": "code",
      "source": [
        "# most operations support 'broadcasting'\n",
        "# if you supply a smaller-dimensional tensor, it will expand it into the full shape\n",
        "tensor + 1"
      ],
      "execution_count": 0,
      "outputs": []
    },
    {
      "metadata": {
        "id": "ubbrk7MZ5D_b",
        "colab_type": "code",
        "colab": {}
      },
      "cell_type": "code",
      "source": [
        "# equivalent to above\n",
        "tensor + tf.convert_to_tensor([1,1,1,1,1])"
      ],
      "execution_count": 0,
      "outputs": []
    },
    {
      "metadata": {
        "id": "9x485b7Q7e-5",
        "colab_type": "code",
        "colab": {}
      },
      "cell_type": "code",
      "source": [
        "# the axis option can often be used to tune broadcasting behavior\n",
        "# or make the operation happen at a certain level of the tensor\n",
        "tf.reduce_mean(tf.convert_to_tensor([0, 2]), axis=0)"
      ],
      "execution_count": 0,
      "outputs": []
    },
    {
      "metadata": {
        "id": "mkCT5SJ1KfV6",
        "colab_type": "code",
        "colab": {}
      },
      "cell_type": "code",
      "source": [
        "tf.reduce_mean(tf.convert_to_tensor([[0,2],[10,12]]), axis=0)"
      ],
      "execution_count": 0,
      "outputs": []
    },
    {
      "metadata": {
        "id": "mxUqeuB47mdQ",
        "colab_type": "code",
        "colab": {}
      },
      "cell_type": "code",
      "source": [
        "tf.reduce_mean(tf.convert_to_tensor([[0,2],[10,12]]), axis=1)"
      ],
      "execution_count": 0,
      "outputs": []
    },
    {
      "metadata": {
        "id": "djP2e_szd6cu",
        "colab_type": "code",
        "colab": {}
      },
      "cell_type": "code",
      "source": [
        "# dot product\n",
        "tf.tensordot(\n",
        "    tf.convert_to_tensor([2,2]),\n",
        "    tf.convert_to_tensor([1,1]),\n",
        "    axes=1\n",
        ")"
      ],
      "execution_count": 0,
      "outputs": []
    },
    {
      "metadata": {
        "id": "G7Q-oGVRZz0X",
        "colab_type": "text"
      },
      "cell_type": "markdown",
      "source": [
        "matrix multiplication\n",
        "\n",
        "![alt text](https://upload.wikimedia.org/wikipedia/commons/thumb/e/eb/Matrix_multiplication_diagram_2.svg/313px-Matrix_multiplication_diagram_2.svg.png)"
      ]
    },
    {
      "metadata": {
        "id": "iIDAje91Zn0b",
        "colab_type": "code",
        "colab": {}
      },
      "cell_type": "code",
      "source": [
        "# rows dot columns\n",
        "tf.matmul(\n",
        "    tf.convert_to_tensor(\n",
        "    [[1,2],\n",
        "     [3,4]]\n",
        "    ),\n",
        "    tf.convert_to_tensor(\n",
        "    [[1,2],\n",
        "     [3,4]]\n",
        "    )\n",
        ")"
      ],
      "execution_count": 0,
      "outputs": []
    },
    {
      "metadata": {
        "id": "sHPOR48p9wz2",
        "colab_type": "text"
      },
      "cell_type": "markdown",
      "source": [
        "### Variables\n",
        "\n",
        "- Tensors are immutable\n",
        "- Give motivation as to why\n",
        "- Instead we use variables for state. Particularly model parameters"
      ]
    },
    {
      "metadata": {
        "id": "3HAKpSgY9xiH",
        "colab_type": "code",
        "colab": {}
      },
      "cell_type": "code",
      "source": [
        "# tensors cannot be changed after they've been created.\n",
        "tensor = tf.convert_to_tensor([1,2,3,4,5])\n",
        "tensor[0] = 2"
      ],
      "execution_count": 0,
      "outputs": []
    },
    {
      "metadata": {
        "id": "XwR9Mpbf95UX",
        "colab_type": "code",
        "colab": {}
      },
      "cell_type": "code",
      "source": [
        "# instead, we use Variables to contain tensor values that may change over time"
      ],
      "execution_count": 0,
      "outputs": []
    },
    {
      "metadata": {
        "id": "XxXV3ymA-A7L",
        "colab_type": "code",
        "colab": {}
      },
      "cell_type": "code",
      "source": [
        "# seed variable with an initial value\n",
        "v = tfe.Variable(tf.convert_to_tensor([1,2,3,4,5]))\n",
        "v"
      ],
      "execution_count": 0,
      "outputs": []
    },
    {
      "metadata": {
        "id": "X71HQQZq3IEM",
        "colab_type": "code",
        "colab": {}
      },
      "cell_type": "code",
      "source": [
        "# assign a new value\n",
        "v.assign(tf.convert_to_tensor([1,1,2,2,2]))"
      ],
      "execution_count": 0,
      "outputs": []
    },
    {
      "metadata": {
        "id": "DSHWtfPf-F1B",
        "colab_type": "code",
        "colab": {}
      },
      "cell_type": "code",
      "source": [
        "# similar to +=\n",
        "v.assign_add(tf.convert_to_tensor([1,1,1,1,1]))"
      ],
      "execution_count": 0,
      "outputs": []
    },
    {
      "metadata": {
        "id": "nRLggb0s-gIQ",
        "colab_type": "code",
        "colab": {}
      },
      "cell_type": "code",
      "source": [
        "# variables as important for computing gradients, will cover this in next section"
      ],
      "execution_count": 0,
      "outputs": []
    },
    {
      "metadata": {
        "id": "DDjPGqAXBZof",
        "colab_type": "text"
      },
      "cell_type": "markdown",
      "source": [
        "### Challenges"
      ]
    },
    {
      "metadata": {
        "id": "JhEcdR9Nbw7_",
        "colab_type": "code",
        "colab": {}
      },
      "cell_type": "code",
      "source": [
        "# 1.\n",
        "# recall computing the line a*x+b from previous section\n",
        "# for now lets assume b = 0, and remove it from the equation\n",
        "A = tf.convert_to_tensor([3])\n",
        "x_values = tf.convert_to_tensor([0, 1, 2, 3])\n",
        "A * x_values"
      ],
      "execution_count": 0,
      "outputs": []
    },
    {
      "metadata": {
        "id": "wgneb-hxcJqo",
        "colab_type": "code",
        "colab": {}
      },
      "cell_type": "code",
      "source": [
        "# How can we compute two lines simultanously, one with slope 3 and other with slope 4?\n",
        "A = # fill in\n",
        "x_values = tf.convert_to_tensor([0, 1, 2, 3])\n",
        "\n",
        "def two_lines(a):\n",
        "  return # fill in"
      ],
      "execution_count": 0,
      "outputs": []
    },
    {
      "metadata": {
        "id": "8Q5HOIwPcn4u",
        "colab_type": "code",
        "colab": {}
      },
      "cell_type": "code",
      "source": [
        "two_lines(A)\n",
        "# desired output:\n",
        "# <tf.Tensor: id=47, shape=(4, 2), dtype=int32, numpy=\n",
        "# array([[ 0,  0],\n",
        "#        [ 3,  4],\n",
        "#        [ 6,  8],\n",
        "#        [ 9, 12]], dtype=int32)>\n",
        "\n",
        "# hint: get the shapes right"
      ],
      "execution_count": 0,
      "outputs": []
    },
    {
      "metadata": {
        "id": "Uz8LQRaZBSwK",
        "colab_type": "code",
        "colab": {}
      },
      "cell_type": "code",
      "source": [
        "# 2.\n",
        "# Suppose we have an 100x100 pixel image, with RBGA values for each pixel. \n",
        "# How would you represent that as a tensor? What would be the shape? (more than 1 possible answer)"
      ],
      "execution_count": 0,
      "outputs": []
    },
    {
      "metadata": {
        "id": "oJN26xuwbC-r",
        "colab_type": "code",
        "colab": {}
      },
      "cell_type": "code",
      "source": [
        "# 3.\n",
        "# compute matrix multiply on two shape (2,2) tensors using tensordot, slicing, and reshape\n",
        "# try computing the 0,0 entry first\n",
        "\n",
        "tensorA = tf.convert_to_tensor(\n",
        "    [[1,2],\n",
        "     [3,4]])\n",
        "\n",
        "tensorB = tf.convert_to_tensor(\n",
        "    [[1,2],\n",
        "     [3,4]])"
      ],
      "execution_count": 0,
      "outputs": []
    }
  ]
}