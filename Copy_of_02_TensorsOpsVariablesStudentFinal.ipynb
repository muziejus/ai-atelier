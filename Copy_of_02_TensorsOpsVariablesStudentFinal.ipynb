{
  "nbformat": 4,
  "nbformat_minor": 0,
  "metadata": {
    "colab": {
      "name": "Copy of 02_TensorsOpsVariablesStudentFinal.ipynb",
      "version": "0.3.2",
      "provenance": [],
      "collapsed_sections": []
    },
    "kernelspec": {
      "name": "python3",
      "display_name": "Python 3"
    }
  },
  "cells": [
    {
      "cell_type": "markdown",
      "metadata": {
        "id": "view-in-github",
        "colab_type": "text"
      },
      "source": [
        "[View in Colaboratory](https://colab.research.google.com/github/muziejus/ai-atelier/blob/master/Copy_of_02_TensorsOpsVariablesStudentFinal.ipynb)"
      ]
    },
    {
      "metadata": {
        "id": "EVsEkAffjbV1",
        "colab_type": "code",
        "colab": {}
      },
      "cell_type": "code",
      "source": [
        "import tensorflow as tf\n",
        "import tensorflow.contrib.eager as tfe\n",
        "tf.enable_eager_execution()"
      ],
      "execution_count": 0,
      "outputs": []
    },
    {
      "metadata": {
        "id": "Tg95cxe3j07z",
        "colab_type": "code",
        "colab": {
          "base_uri": "https://localhost:8080/",
          "height": 85
        },
        "outputId": "10665889-8810-4a85-dfb6-c048d9ead614"
      },
      "cell_type": "code",
      "source": [
        "ta = tf.convert_to_tensor([[1,2,3,4,5,6,7,8,9,10],[1,2,3,4,5,6,7,8,9,10],[1,2,3,4,5,6,7,8,9,10]])\n",
        "ta"
      ],
      "execution_count": 25,
      "outputs": [
        {
          "output_type": "execute_result",
          "data": {
            "text/plain": [
              "<tf.Tensor: id=111, shape=(3, 10), dtype=int32, numpy=\n",
              "array([[ 1,  2,  3,  4,  5,  6,  7,  8,  9, 10],\n",
              "       [ 1,  2,  3,  4,  5,  6,  7,  8,  9, 10],\n",
              "       [ 1,  2,  3,  4,  5,  6,  7,  8,  9, 10]], dtype=int32)>"
            ]
          },
          "metadata": {
            "tags": []
          },
          "execution_count": 25
        }
      ]
    },
    {
      "metadata": {
        "id": "cVkyQ0nQ2HIn",
        "colab_type": "text"
      },
      "cell_type": "markdown",
      "source": [
        "## Tensors, Ops, & Variables\n"
      ]
    },
    {
      "metadata": {
        "id": "8Pcu9ef92x40",
        "colab_type": "text"
      },
      "cell_type": "markdown",
      "source": [
        "### Tensor Shapes & Slices"
      ]
    },
    {
      "metadata": {
        "id": "t4VwF-EC6k4F",
        "colab_type": "code",
        "colab": {}
      },
      "cell_type": "code",
      "source": [
        "# can create tensors with convert_to_tensor\n",
        "tensor = tf.convert_to_tensor([1,2,3,4,5])"
      ],
      "execution_count": 0,
      "outputs": []
    },
    {
      "metadata": {
        "id": "kgqvgWDDTVvp",
        "colab_type": "code",
        "colab": {
          "base_uri": "https://localhost:8080/",
          "height": 34
        },
        "outputId": "e62a7a88-1d47-4b51-d119-9a897b8f6d24"
      },
      "cell_type": "code",
      "source": [
        "# python indexing and slicing\n",
        "tensor = tf.convert_to_tensor([1,2,3,4,5])\n",
        "tensor[0:2]"
      ],
      "execution_count": 3,
      "outputs": [
        {
          "output_type": "execute_result",
          "data": {
            "text/plain": [
              "<tf.Tensor: id=5, shape=(2,), dtype=int32, numpy=array([1, 2], dtype=int32)>"
            ]
          },
          "metadata": {
            "tags": []
          },
          "execution_count": 3
        }
      ]
    },
    {
      "metadata": {
        "id": "Zr0CzD8aSqhO",
        "colab_type": "code",
        "colab": {}
      },
      "cell_type": "code",
      "source": [
        "# how to create a 2d tensor?\n",
        "tensors = tf.convert_to_tensor([[1,2],[3,4]])"
      ],
      "execution_count": 0,
      "outputs": []
    },
    {
      "metadata": {
        "id": "RVsGRP2LTfIF",
        "colab_type": "code",
        "colab": {
          "base_uri": "https://localhost:8080/",
          "height": 34
        },
        "outputId": "cf55f907-93d6-4df2-a996-ca86593e5061"
      },
      "cell_type": "code",
      "source": [
        "# indexing in 2d\n",
        "tensors[0,0]"
      ],
      "execution_count": 5,
      "outputs": [
        {
          "output_type": "execute_result",
          "data": {
            "text/plain": [
              "<tf.Tensor: id=11, shape=(), dtype=int32, numpy=1>"
            ]
          },
          "metadata": {
            "tags": []
          },
          "execution_count": 5
        }
      ]
    },
    {
      "metadata": {
        "id": "AgKD9k77TjvX",
        "colab_type": "code",
        "colab": {
          "base_uri": "https://localhost:8080/",
          "height": 34
        },
        "outputId": "2cca9542-140b-4833-ad25-735cd3191c13"
      },
      "cell_type": "code",
      "source": [
        "# slicing in 2d\n",
        "tensors[:,0]"
      ],
      "execution_count": 6,
      "outputs": [
        {
          "output_type": "execute_result",
          "data": {
            "text/plain": [
              "<tf.Tensor: id=16, shape=(2,), dtype=int32, numpy=array([1, 3], dtype=int32)>"
            ]
          },
          "metadata": {
            "tags": []
          },
          "execution_count": 6
        }
      ]
    },
    {
      "metadata": {
        "id": "sDocZhX4S13e",
        "colab_type": "code",
        "colab": {}
      },
      "cell_type": "code",
      "source": [
        "# tensors have a shape\n",
        "# length of the shape is called the rank\n",
        "# change number of elements and see shape"
      ],
      "execution_count": 0,
      "outputs": []
    },
    {
      "metadata": {
        "id": "-kf6DEDdS7HX",
        "colab_type": "code",
        "colab": {}
      },
      "cell_type": "code",
      "source": [
        "# tensors must have uniform shape! cannot have ragged shapes.\n",
        "# this will error\n",
        "tf.convert_to_tensor([[1,2],[3]])"
      ],
      "execution_count": 0,
      "outputs": []
    },
    {
      "metadata": {
        "id": "AeFuh9uM3X0r",
        "colab_type": "code",
        "colab": {
          "base_uri": "https://localhost:8080/",
          "height": 119
        },
        "outputId": "aaa5cb22-651f-4dd1-a296-f4d55485dd9b"
      },
      "cell_type": "code",
      "source": [
        "# what is the shape of the below?\n",
        "tensor = tf.convert_to_tensor([[1,1],[2,2],[3,3],[4,4],[5,5]])\n",
        "tensor"
      ],
      "execution_count": 7,
      "outputs": [
        {
          "output_type": "execute_result",
          "data": {
            "text/plain": [
              "<tf.Tensor: id=18, shape=(5, 2), dtype=int32, numpy=\n",
              "array([[1, 1],\n",
              "       [2, 2],\n",
              "       [3, 3],\n",
              "       [4, 4],\n",
              "       [5, 5]], dtype=int32)>"
            ]
          },
          "metadata": {
            "tags": []
          },
          "execution_count": 7
        }
      ]
    },
    {
      "metadata": {
        "id": "oPfSg4Jv3eKj",
        "colab_type": "code",
        "colab": {
          "base_uri": "https://localhost:8080/",
          "height": 119
        },
        "outputId": "43d207d7-c0c1-4278-8ea9-8c9d91828a7a"
      },
      "cell_type": "code",
      "source": [
        "# often need to reshape tensors. Can reshape to any shape with same # of elements.\n",
        "tensor = tf.convert_to_tensor([1,1,2,2,3,3,4,4,5,5])\n",
        "tf.reshape(tensor, (5,2))"
      ],
      "execution_count": 8,
      "outputs": [
        {
          "output_type": "execute_result",
          "data": {
            "text/plain": [
              "<tf.Tensor: id=22, shape=(5, 2), dtype=int32, numpy=\n",
              "array([[1, 1],\n",
              "       [2, 2],\n",
              "       [3, 3],\n",
              "       [4, 4],\n",
              "       [5, 5]], dtype=int32)>"
            ]
          },
          "metadata": {
            "tags": []
          },
          "execution_count": 8
        }
      ]
    },
    {
      "metadata": {
        "id": "-NiVEas42GXq",
        "colab_type": "code",
        "colab": {}
      },
      "cell_type": "code",
      "source": [
        "# when reshaping, can have 1 (and only 1) wildcard dimension"
      ],
      "execution_count": 0,
      "outputs": []
    },
    {
      "metadata": {
        "id": "8LYRjEh4UKeQ",
        "colab_type": "code",
        "colab": {
          "base_uri": "https://localhost:8080/",
          "height": 119
        },
        "outputId": "a7e84833-4fc6-4d2e-bdbc-a1e16714ff75"
      },
      "cell_type": "code",
      "source": [
        "tensor = tf.convert_to_tensor([1,1,2,2,3,3,4,4,5,5])\n",
        "tf.reshape(tensor, (5,-1))"
      ],
      "execution_count": 9,
      "outputs": [
        {
          "output_type": "execute_result",
          "data": {
            "text/plain": [
              "<tf.Tensor: id=26, shape=(5, 2), dtype=int32, numpy=\n",
              "array([[1, 1],\n",
              "       [2, 2],\n",
              "       [3, 3],\n",
              "       [4, 4],\n",
              "       [5, 5]], dtype=int32)>"
            ]
          },
          "metadata": {
            "tags": []
          },
          "execution_count": 9
        }
      ]
    },
    {
      "metadata": {
        "id": "qKeYqYblUMT_",
        "colab_type": "code",
        "colab": {
          "base_uri": "https://localhost:8080/",
          "height": 119
        },
        "outputId": "0ad6f869-b96b-476e-df4c-a97ad79137fc"
      },
      "cell_type": "code",
      "source": [
        "tensor = tf.convert_to_tensor([1,1,2,2,3,3,4,4,5,5])\n",
        "tf.reshape(tensor, (-1,2))"
      ],
      "execution_count": 10,
      "outputs": [
        {
          "output_type": "execute_result",
          "data": {
            "text/plain": [
              "<tf.Tensor: id=30, shape=(5, 2), dtype=int32, numpy=\n",
              "array([[1, 1],\n",
              "       [2, 2],\n",
              "       [3, 3],\n",
              "       [4, 4],\n",
              "       [5, 5]], dtype=int32)>"
            ]
          },
          "metadata": {
            "tags": []
          },
          "execution_count": 10
        }
      ]
    },
    {
      "metadata": {
        "id": "nWL6djYL4osZ",
        "colab_type": "text"
      },
      "cell_type": "markdown",
      "source": [
        "### Ops & Shapes"
      ]
    },
    {
      "metadata": {
        "id": "4FeqUmrR6Qxx",
        "colab_type": "code",
        "colab": {}
      },
      "cell_type": "code",
      "source": [
        "tensor = tf.convert_to_tensor([1,2,3,4,5])"
      ],
      "execution_count": 0,
      "outputs": []
    },
    {
      "metadata": {
        "id": "JEeBj9hq4Pnn",
        "colab_type": "code",
        "colab": {
          "base_uri": "https://localhost:8080/",
          "height": 34
        },
        "outputId": "825c7ec4-1390-47ee-ba05-810e74dd91fe"
      },
      "cell_type": "code",
      "source": [
        "# python math operatos are overloaded into TF ops\n",
        "tensor + tensor"
      ],
      "execution_count": 12,
      "outputs": [
        {
          "output_type": "execute_result",
          "data": {
            "text/plain": [
              "<tf.Tensor: id=33, shape=(5,), dtype=int32, numpy=array([ 2,  4,  6,  8, 10], dtype=int32)>"
            ]
          },
          "metadata": {
            "tags": []
          },
          "execution_count": 12
        }
      ]
    },
    {
      "metadata": {
        "id": "D5CGX3dDJyQG",
        "colab_type": "code",
        "colab": {}
      },
      "cell_type": "code",
      "source": [
        "# shapes have to be compatible\n",
        "tensor_1 = tf.convert_to_tensor([1,2,3,4,5])\n",
        "tensor_2 = tf.convert_to_tensor([1,2,3])\n",
        "tensor_1 + tensor_2"
      ],
      "execution_count": 0,
      "outputs": []
    },
    {
      "metadata": {
        "id": "sD_7byb9J1O9",
        "colab_type": "code",
        "colab": {
          "base_uri": "https://localhost:8080/",
          "height": 34
        },
        "outputId": "a1389dc6-20d1-4e20-f85e-1a7036d6fa69"
      },
      "cell_type": "code",
      "source": [
        "# Why shapes are really important:\n",
        "# functions expect certain shapes\n",
        "tf.losses.sigmoid_cross_entropy(\n",
        "    tf.convert_to_tensor([[0.3], [0.6]]), \n",
        "    tf.convert_to_tensor([[0.0],[1.0]]))"
      ],
      "execution_count": 14,
      "outputs": [
        {
          "output_type": "execute_result",
          "data": {
            "text/plain": [
              "<tf.Tensor: id=77, shape=(), dtype=float32, numpy=0.7032044>"
            ]
          },
          "metadata": {
            "tags": []
          },
          "execution_count": 14
        }
      ]
    },
    {
      "metadata": {
        "id": "H_i_AI59KI2y",
        "colab_type": "code",
        "colab": {}
      },
      "cell_type": "code",
      "source": [
        "# broken in comparison to above\n",
        "tf.losses.sigmoid_cross_entropy(\n",
        "    tf.convert_to_tensor([[0.3], [0.6]]), \n",
        "    tf.convert_to_tensor([0.0,1.0]))\n",
        "# important to understand how functions & shape interact"
      ],
      "execution_count": 0,
      "outputs": []
    },
    {
      "metadata": {
        "id": "LlOpzBWI4zqY",
        "colab_type": "code",
        "colab": {
          "base_uri": "https://localhost:8080/",
          "height": 34
        },
        "outputId": "2a0eef78-c624-445e-b000-de28b33367ba"
      },
      "cell_type": "code",
      "source": [
        "# most tensor ops are vectorized by default\n",
        "# will compute operation independently on each element in the tensor\n",
        "tf.square(tensor)"
      ],
      "execution_count": 15,
      "outputs": [
        {
          "output_type": "execute_result",
          "data": {
            "text/plain": [
              "<tf.Tensor: id=79, shape=(5,), dtype=int32, numpy=array([ 1,  4,  9, 16, 25], dtype=int32)>"
            ]
          },
          "metadata": {
            "tags": []
          },
          "execution_count": 15
        }
      ]
    },
    {
      "metadata": {
        "id": "14AqZWqL6OWo",
        "colab_type": "code",
        "colab": {
          "base_uri": "https://localhost:8080/",
          "height": 68
        },
        "outputId": "05d15637-b1b4-4e69-cf53-c9f61f21d0fa"
      },
      "cell_type": "code",
      "source": [
        "# same code will work on a more complex shape\n",
        "tf.square(tf.convert_to_tensor([[1,2],[3,4]]))"
      ],
      "execution_count": 16,
      "outputs": [
        {
          "output_type": "execute_result",
          "data": {
            "text/plain": [
              "<tf.Tensor: id=82, shape=(2, 2), dtype=int32, numpy=\n",
              "array([[ 1,  4],\n",
              "       [ 9, 16]], dtype=int32)>"
            ]
          },
          "metadata": {
            "tags": []
          },
          "execution_count": 16
        }
      ]
    },
    {
      "metadata": {
        "id": "nAuasaGe4-xd",
        "colab_type": "code",
        "colab": {
          "base_uri": "https://localhost:8080/",
          "height": 34
        },
        "outputId": "731e29e6-39eb-48df-e16d-692cfab26ed4"
      },
      "cell_type": "code",
      "source": [
        "# most operations support 'broadcasting'\n",
        "# if you supply a smaller-dimensional tensor, it will expand it into the full shape\n",
        "tensor + 1"
      ],
      "execution_count": 17,
      "outputs": [
        {
          "output_type": "execute_result",
          "data": {
            "text/plain": [
              "<tf.Tensor: id=85, shape=(5,), dtype=int32, numpy=array([2, 3, 4, 5, 6], dtype=int32)>"
            ]
          },
          "metadata": {
            "tags": []
          },
          "execution_count": 17
        }
      ]
    },
    {
      "metadata": {
        "id": "ubbrk7MZ5D_b",
        "colab_type": "code",
        "colab": {}
      },
      "cell_type": "code",
      "source": [
        "# equivalent to above\n",
        "tensor + tf.convert_to_tensor([1,1,1,1,1])"
      ],
      "execution_count": 0,
      "outputs": []
    },
    {
      "metadata": {
        "id": "9x485b7Q7e-5",
        "colab_type": "code",
        "colab": {
          "base_uri": "https://localhost:8080/",
          "height": 34
        },
        "outputId": "9f208961-2f6c-4840-fa7b-872604ab050e"
      },
      "cell_type": "code",
      "source": [
        "# the axis option can often be used to tune broadcasting behavior\n",
        "# or make the operation happen at a certain level of the tensor\n",
        "tf.reduce_mean(tf.convert_to_tensor([0, 2]), axis=0)"
      ],
      "execution_count": 18,
      "outputs": [
        {
          "output_type": "execute_result",
          "data": {
            "text/plain": [
              "<tf.Tensor: id=88, shape=(), dtype=int32, numpy=1>"
            ]
          },
          "metadata": {
            "tags": []
          },
          "execution_count": 18
        }
      ]
    },
    {
      "metadata": {
        "id": "mkCT5SJ1KfV6",
        "colab_type": "code",
        "colab": {
          "base_uri": "https://localhost:8080/",
          "height": 34
        },
        "outputId": "04b012e4-4be6-4f34-8201-9c4c7f45e069"
      },
      "cell_type": "code",
      "source": [
        "tf.reduce_mean(tf.convert_to_tensor([[0,2],[10,12]]), axis=0)"
      ],
      "execution_count": 19,
      "outputs": [
        {
          "output_type": "execute_result",
          "data": {
            "text/plain": [
              "<tf.Tensor: id=91, shape=(2,), dtype=int32, numpy=array([5, 7], dtype=int32)>"
            ]
          },
          "metadata": {
            "tags": []
          },
          "execution_count": 19
        }
      ]
    },
    {
      "metadata": {
        "id": "mxUqeuB47mdQ",
        "colab_type": "code",
        "colab": {
          "base_uri": "https://localhost:8080/",
          "height": 34
        },
        "outputId": "5fdb69a1-2d4b-4dbf-ffcf-3323f768a1d2"
      },
      "cell_type": "code",
      "source": [
        "tf.reduce_mean(tf.convert_to_tensor([[0,2],[10,12]]), axis=1)"
      ],
      "execution_count": 20,
      "outputs": [
        {
          "output_type": "execute_result",
          "data": {
            "text/plain": [
              "<tf.Tensor: id=94, shape=(2,), dtype=int32, numpy=array([ 1, 11], dtype=int32)>"
            ]
          },
          "metadata": {
            "tags": []
          },
          "execution_count": 20
        }
      ]
    },
    {
      "metadata": {
        "id": "djP2e_szd6cu",
        "colab_type": "code",
        "colab": {
          "base_uri": "https://localhost:8080/",
          "height": 34
        },
        "outputId": "17e2d93f-3fde-449e-b587-2449eb72f017"
      },
      "cell_type": "code",
      "source": [
        "# dot product\n",
        "tf.tensordot(\n",
        "    tf.convert_to_tensor([2,2]),\n",
        "    tf.convert_to_tensor([1,1]),\n",
        "    axes=1\n",
        ")"
      ],
      "execution_count": 21,
      "outputs": [
        {
          "output_type": "execute_result",
          "data": {
            "text/plain": [
              "<tf.Tensor: id=108, shape=(), dtype=int32, numpy=4>"
            ]
          },
          "metadata": {
            "tags": []
          },
          "execution_count": 21
        }
      ]
    },
    {
      "metadata": {
        "id": "G7Q-oGVRZz0X",
        "colab_type": "text"
      },
      "cell_type": "markdown",
      "source": [
        "matrix multiplication\n",
        "\n",
        "![alt text](https://upload.wikimedia.org/wikipedia/commons/thumb/e/eb/Matrix_multiplication_diagram_2.svg/313px-Matrix_multiplication_diagram_2.svg.png)"
      ]
    },
    {
      "metadata": {
        "id": "iIDAje91Zn0b",
        "colab_type": "code",
        "colab": {
          "base_uri": "https://localhost:8080/",
          "height": 68
        },
        "outputId": "f4bc71a0-f263-487d-9328-d0d213618503"
      },
      "cell_type": "code",
      "source": [
        "# rows dot columns\n",
        "tf.matmul(\n",
        "    tf.convert_to_tensor(\n",
        "    [[1,2],\n",
        "     [3,4]]\n",
        "    ),\n",
        "    tf.convert_to_tensor(\n",
        "    [[1,2],\n",
        "     [3,4]]\n",
        "    )\n",
        ")"
      ],
      "execution_count": 26,
      "outputs": [
        {
          "output_type": "execute_result",
          "data": {
            "text/plain": [
              "<tf.Tensor: id=115, shape=(2, 2), dtype=int32, numpy=\n",
              "array([[ 7, 10],\n",
              "       [15, 22]], dtype=int32)>"
            ]
          },
          "metadata": {
            "tags": []
          },
          "execution_count": 26
        }
      ]
    },
    {
      "metadata": {
        "id": "sHPOR48p9wz2",
        "colab_type": "text"
      },
      "cell_type": "markdown",
      "source": [
        "### Variables\n",
        "\n",
        "- Tensors are immutable\n",
        "- Give motivation as to why\n",
        "- Instead we use variables for state. Particularly model parameters"
      ]
    },
    {
      "metadata": {
        "id": "3HAKpSgY9xiH",
        "colab_type": "code",
        "colab": {}
      },
      "cell_type": "code",
      "source": [
        "# tensors cannot be changed after they've been created.\n",
        "tensor = tf.convert_to_tensor([1,2,3,4,5])\n",
        "tensor[0] = 2"
      ],
      "execution_count": 0,
      "outputs": []
    },
    {
      "metadata": {
        "id": "XwR9Mpbf95UX",
        "colab_type": "code",
        "colab": {}
      },
      "cell_type": "code",
      "source": [
        "# instead, we use Variables to contain tensor values that may change over time"
      ],
      "execution_count": 0,
      "outputs": []
    },
    {
      "metadata": {
        "id": "XxXV3ymA-A7L",
        "colab_type": "code",
        "colab": {
          "base_uri": "https://localhost:8080/",
          "height": 34
        },
        "outputId": "13806d59-eb3c-4063-f5ba-e6f9b26e84ca"
      },
      "cell_type": "code",
      "source": [
        "# seed variable with an initial value\n",
        "v = tfe.Variable(tf.convert_to_tensor([1,2,3,4,5]))\n",
        "v"
      ],
      "execution_count": 27,
      "outputs": [
        {
          "output_type": "execute_result",
          "data": {
            "text/plain": [
              "<tf.Variable 'Variable:0' shape=(5,) dtype=int32, numpy=array([1, 2, 3, 4, 5], dtype=int32)>"
            ]
          },
          "metadata": {
            "tags": []
          },
          "execution_count": 27
        }
      ]
    },
    {
      "metadata": {
        "id": "X71HQQZq3IEM",
        "colab_type": "code",
        "colab": {
          "base_uri": "https://localhost:8080/",
          "height": 34
        },
        "outputId": "9345ed53-5be8-40fe-e585-7dc61f137285"
      },
      "cell_type": "code",
      "source": [
        "# assign a new value\n",
        "v.assign(tf.convert_to_tensor([1,1,2,2,2]))"
      ],
      "execution_count": 28,
      "outputs": [
        {
          "output_type": "execute_result",
          "data": {
            "text/plain": [
              "<tf.Variable '' shape=(5,) dtype=int32, numpy=array([1, 1, 2, 2, 2], dtype=int32)>"
            ]
          },
          "metadata": {
            "tags": []
          },
          "execution_count": 28
        }
      ]
    },
    {
      "metadata": {
        "id": "DSHWtfPf-F1B",
        "colab_type": "code",
        "colab": {}
      },
      "cell_type": "code",
      "source": [
        "# similar to +=\n",
        "v.assign_add(tf.convert_to_tensor([1,1,1,1,1]))"
      ],
      "execution_count": 0,
      "outputs": []
    },
    {
      "metadata": {
        "id": "nRLggb0s-gIQ",
        "colab_type": "code",
        "colab": {}
      },
      "cell_type": "code",
      "source": [
        "# variables as important for computing gradients, will cover this in next section"
      ],
      "execution_count": 0,
      "outputs": []
    },
    {
      "metadata": {
        "id": "DDjPGqAXBZof",
        "colab_type": "text"
      },
      "cell_type": "markdown",
      "source": [
        "### Challenges"
      ]
    },
    {
      "metadata": {
        "id": "JhEcdR9Nbw7_",
        "colab_type": "code",
        "colab": {
          "base_uri": "https://localhost:8080/",
          "height": 34
        },
        "outputId": "2397759f-7782-4917-d177-7576dc93d634"
      },
      "cell_type": "code",
      "source": [
        "# 1.\n",
        "# recall computing the line a*x+b from previous section\n",
        "# for now lets assume b = 0, and remove it from the equation\n",
        "A = tf.convert_to_tensor([3])\n",
        "x_values = tf.convert_to_tensor([0, 1, 2, 3])\n",
        "A * x_values"
      ],
      "execution_count": 29,
      "outputs": [
        {
          "output_type": "execute_result",
          "data": {
            "text/plain": [
              "<tf.Tensor: id=132, shape=(4,), dtype=int32, numpy=array([0, 3, 6, 9], dtype=int32)>"
            ]
          },
          "metadata": {
            "tags": []
          },
          "execution_count": 29
        }
      ]
    },
    {
      "metadata": {
        "id": "FDpFag2qrCdb",
        "colab_type": "code",
        "colab": {
          "base_uri": "https://localhost:8080/",
          "height": 34
        },
        "outputId": "ad7e0085-59a6-4ac6-892c-857be0cfc0fd"
      },
      "cell_type": "code",
      "source": [
        "x_values"
      ],
      "execution_count": 67,
      "outputs": [
        {
          "output_type": "execute_result",
          "data": {
            "text/plain": [
              "<tf.Tensor: id=313, shape=(4,), dtype=int32, numpy=array([0, 1, 2, 3], dtype=int32)>"
            ]
          },
          "metadata": {
            "tags": []
          },
          "execution_count": 67
        }
      ]
    },
    {
      "metadata": {
        "id": "wgneb-hxcJqo",
        "colab_type": "code",
        "colab": {}
      },
      "cell_type": "code",
      "source": [
        "# How can we compute two lines simultanously, one with slope 3 and other with slope 4?\n",
        "A = tf.convert_to_tensor([3, 4])# fill in\n",
        "x_values = tf.convert_to_tensor([0, 1, 2, 3])\n",
        "\n",
        "def two_lines(a):\n",
        "  return tf.tensordot(x_values, a, axes=0)# fill in\n",
        "def two_linesb(a):\n",
        "  return tf.tensordot(a, x_values, axes=0)"
      ],
      "execution_count": 0,
      "outputs": []
    },
    {
      "metadata": {
        "id": "Zn9Kbwego758",
        "colab_type": "code",
        "colab": {
          "base_uri": "https://localhost:8080/",
          "height": 680
        },
        "outputId": "5ab059ff-0b09-4156-8f02-a5d716c193fb"
      },
      "cell_type": "code",
      "source": [
        "two_linesb(A)"
      ],
      "execution_count": 63,
      "outputs": [
        {
          "output_type": "error",
          "ename": "InvalidArgumentError",
          "evalue": "ignored",
          "traceback": [
            "\u001b[0;31m---------------------------------------------------------------------------\u001b[0m",
            "\u001b[0;31mInvalidArgumentError\u001b[0m                      Traceback (most recent call last)",
            "\u001b[0;32m<ipython-input-63-e91ee7ce4b99>\u001b[0m in \u001b[0;36m<module>\u001b[0;34m()\u001b[0m\n\u001b[0;32m----> 1\u001b[0;31m \u001b[0mtwo_linesb\u001b[0m\u001b[0;34m(\u001b[0m\u001b[0mA\u001b[0m\u001b[0;34m)\u001b[0m\u001b[0;34m\u001b[0m\u001b[0m\n\u001b[0m",
            "\u001b[0;32m<ipython-input-62-01b441b3d826>\u001b[0m in \u001b[0;36mtwo_linesb\u001b[0;34m(a)\u001b[0m\n\u001b[1;32m      5\u001b[0m   \u001b[0;32mreturn\u001b[0m \u001b[0mtf\u001b[0m\u001b[0;34m.\u001b[0m\u001b[0mtensordot\u001b[0m\u001b[0;34m(\u001b[0m\u001b[0mx_values\u001b[0m\u001b[0;34m,\u001b[0m \u001b[0ma\u001b[0m\u001b[0;34m,\u001b[0m \u001b[0maxes\u001b[0m\u001b[0;34m=\u001b[0m\u001b[0;36m1\u001b[0m\u001b[0;34m)\u001b[0m\u001b[0;31m# fill in\u001b[0m\u001b[0;34m\u001b[0m\u001b[0m\n\u001b[1;32m      6\u001b[0m \u001b[0;32mdef\u001b[0m \u001b[0mtwo_linesb\u001b[0m\u001b[0;34m(\u001b[0m\u001b[0ma\u001b[0m\u001b[0;34m)\u001b[0m\u001b[0;34m:\u001b[0m\u001b[0;34m\u001b[0m\u001b[0m\n\u001b[0;32m----> 7\u001b[0;31m   \u001b[0;32mreturn\u001b[0m \u001b[0mtf\u001b[0m\u001b[0;34m.\u001b[0m\u001b[0mtensordot\u001b[0m\u001b[0;34m(\u001b[0m\u001b[0ma\u001b[0m\u001b[0;34m,\u001b[0m \u001b[0mx_values\u001b[0m\u001b[0;34m,\u001b[0m \u001b[0maxes\u001b[0m\u001b[0;34m=\u001b[0m\u001b[0;36m1\u001b[0m\u001b[0;34m)\u001b[0m\u001b[0;34m\u001b[0m\u001b[0m\n\u001b[0m",
            "\u001b[0;32m/usr/local/lib/python3.6/dist-packages/tensorflow/python/ops/math_ops.py\u001b[0m in \u001b[0;36mtensordot\u001b[0;34m(a, b, axes, name)\u001b[0m\n\u001b[1;32m   3002\u001b[0m     b_reshape, b_free_dims, b_free_dims_static = _tensordot_reshape(\n\u001b[1;32m   3003\u001b[0m         b, b_axes, True)\n\u001b[0;32m-> 3004\u001b[0;31m     \u001b[0mab_matmul\u001b[0m \u001b[0;34m=\u001b[0m \u001b[0mmatmul\u001b[0m\u001b[0;34m(\u001b[0m\u001b[0ma_reshape\u001b[0m\u001b[0;34m,\u001b[0m \u001b[0mb_reshape\u001b[0m\u001b[0;34m)\u001b[0m\u001b[0;34m\u001b[0m\u001b[0m\n\u001b[0m\u001b[1;32m   3005\u001b[0m     \u001b[0;32mif\u001b[0m \u001b[0misinstance\u001b[0m\u001b[0;34m(\u001b[0m\u001b[0ma_free_dims\u001b[0m\u001b[0;34m,\u001b[0m \u001b[0mlist\u001b[0m\u001b[0;34m)\u001b[0m \u001b[0;32mand\u001b[0m \u001b[0misinstance\u001b[0m\u001b[0;34m(\u001b[0m\u001b[0mb_free_dims\u001b[0m\u001b[0;34m,\u001b[0m \u001b[0mlist\u001b[0m\u001b[0;34m)\u001b[0m\u001b[0;34m:\u001b[0m\u001b[0;34m\u001b[0m\u001b[0m\n\u001b[1;32m   3006\u001b[0m       \u001b[0;32mreturn\u001b[0m \u001b[0marray_ops\u001b[0m\u001b[0;34m.\u001b[0m\u001b[0mreshape\u001b[0m\u001b[0;34m(\u001b[0m\u001b[0mab_matmul\u001b[0m\u001b[0;34m,\u001b[0m \u001b[0ma_free_dims\u001b[0m \u001b[0;34m+\u001b[0m \u001b[0mb_free_dims\u001b[0m\u001b[0;34m,\u001b[0m \u001b[0mname\u001b[0m\u001b[0;34m=\u001b[0m\u001b[0mname\u001b[0m\u001b[0;34m)\u001b[0m\u001b[0;34m\u001b[0m\u001b[0m\n",
            "\u001b[0;32m/usr/local/lib/python3.6/dist-packages/tensorflow/python/ops/math_ops.py\u001b[0m in \u001b[0;36mmatmul\u001b[0;34m(a, b, transpose_a, transpose_b, adjoint_a, adjoint_b, a_is_sparse, b_is_sparse, name)\u001b[0m\n\u001b[1;32m   2120\u001b[0m     \u001b[0;32melse\u001b[0m\u001b[0;34m:\u001b[0m\u001b[0;34m\u001b[0m\u001b[0m\n\u001b[1;32m   2121\u001b[0m       return gen_math_ops.mat_mul(\n\u001b[0;32m-> 2122\u001b[0;31m           a, b, transpose_a=transpose_a, transpose_b=transpose_b, name=name)\n\u001b[0m\u001b[1;32m   2123\u001b[0m \u001b[0;34m\u001b[0m\u001b[0m\n\u001b[1;32m   2124\u001b[0m \u001b[0;34m\u001b[0m\u001b[0m\n",
            "\u001b[0;32m/usr/local/lib/python3.6/dist-packages/tensorflow/python/ops/gen_math_ops.py\u001b[0m in \u001b[0;36mmat_mul\u001b[0;34m(a, b, transpose_a, transpose_b, name)\u001b[0m\n\u001b[1;32m   4303\u001b[0m       \u001b[0;32melse\u001b[0m\u001b[0;34m:\u001b[0m\u001b[0;34m\u001b[0m\u001b[0m\n\u001b[1;32m   4304\u001b[0m         \u001b[0mmessage\u001b[0m \u001b[0;34m=\u001b[0m \u001b[0me\u001b[0m\u001b[0;34m.\u001b[0m\u001b[0mmessage\u001b[0m\u001b[0;34m\u001b[0m\u001b[0m\n\u001b[0;32m-> 4305\u001b[0;31m       \u001b[0m_six\u001b[0m\u001b[0;34m.\u001b[0m\u001b[0mraise_from\u001b[0m\u001b[0;34m(\u001b[0m\u001b[0m_core\u001b[0m\u001b[0;34m.\u001b[0m\u001b[0m_status_to_exception\u001b[0m\u001b[0;34m(\u001b[0m\u001b[0me\u001b[0m\u001b[0;34m.\u001b[0m\u001b[0mcode\u001b[0m\u001b[0;34m,\u001b[0m \u001b[0mmessage\u001b[0m\u001b[0;34m)\u001b[0m\u001b[0;34m,\u001b[0m \u001b[0;32mNone\u001b[0m\u001b[0;34m)\u001b[0m\u001b[0;34m\u001b[0m\u001b[0m\n\u001b[0m\u001b[1;32m   4306\u001b[0m \u001b[0;34m\u001b[0m\u001b[0m\n\u001b[1;32m   4307\u001b[0m \u001b[0;34m\u001b[0m\u001b[0m\n",
            "\u001b[0;32m/usr/local/lib/python3.6/dist-packages/six.py\u001b[0m in \u001b[0;36mraise_from\u001b[0;34m(value, from_value)\u001b[0m\n",
            "\u001b[0;31mInvalidArgumentError\u001b[0m: Matrix size-incompatible: In[0]: [1,2], In[1]: [4,1] [Op:MatMul] name: Tensordot/MatMul/"
          ]
        }
      ]
    },
    {
      "metadata": {
        "id": "8Q5HOIwPcn4u",
        "colab_type": "code",
        "colab": {
          "base_uri": "https://localhost:8080/",
          "height": 102
        },
        "outputId": "42225f36-fadd-4598-9a63-302e6ffd3eba"
      },
      "cell_type": "code",
      "source": [
        "two_lines(A)\n",
        "# desired output:\n",
        "# <tf.Tensor: id=47, shape=(4, 2), dtype=int32, numpy=\n",
        "# array([[ 0,  0],\n",
        "#        [ 3,  4],\n",
        "#        [ 6,  8],\n",
        "#        [ 9, 12]], dtype=int32)>\n",
        "\n",
        "# hint: get the shapes right"
      ],
      "execution_count": 61,
      "outputs": [
        {
          "output_type": "execute_result",
          "data": {
            "text/plain": [
              "<tf.Tensor: id=298, shape=(4, 2), dtype=int32, numpy=\n",
              "array([[ 0,  0],\n",
              "       [ 3,  4],\n",
              "       [ 6,  8],\n",
              "       [ 9, 12]], dtype=int32)>"
            ]
          },
          "metadata": {
            "tags": []
          },
          "execution_count": 61
        }
      ]
    },
    {
      "metadata": {
        "id": "Uz8LQRaZBSwK",
        "colab_type": "code",
        "colab": {
          "base_uri": "https://localhost:8080/",
          "height": 85
        },
        "outputId": "724af403-d755-4101-dd7b-d395b288d36a"
      },
      "cell_type": "code",
      "source": [
        "# 2.\n",
        "# Suppose we have an 100x100 pixel image, with RBGA values for each pixel. \n",
        "# How would you represent that as a tensor? What would be the shape? (more than 1 possible answer)\n",
        "\n",
        "tf.convert_to_tensor([[[255,255,255,1.0]], [[255,255,255,1.0]]])"
      ],
      "execution_count": 74,
      "outputs": [
        {
          "output_type": "execute_result",
          "data": {
            "text/plain": [
              "<tf.Tensor: id=324, shape=(2, 1, 4), dtype=float32, numpy=\n",
              "array([[[255., 255., 255.,   1.]],\n",
              "\n",
              "       [[255., 255., 255.,   1.]]], dtype=float32)>"
            ]
          },
          "metadata": {
            "tags": []
          },
          "execution_count": 74
        }
      ]
    },
    {
      "metadata": {
        "id": "oJN26xuwbC-r",
        "colab_type": "code",
        "colab": {}
      },
      "cell_type": "code",
      "source": [
        "# 3.\n",
        "# compute matrix multiply on two shape (2,2) tensors using tensordot, slicing, and reshape\n",
        "# try computing the 0,0 entry first\n",
        "\n",
        "tensorA = tf.convert_to_tensor(\n",
        "    [[1,2],\n",
        "     [3,4]])\n",
        "\n",
        "tensorB = tf.convert_to_tensor(\n",
        "    [[1,2],\n",
        "     [3,4]])"
      ],
      "execution_count": 0,
      "outputs": []
    }
  ]
}